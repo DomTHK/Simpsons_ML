{
 "cells": [
  {
   "cell_type": "markdown",
   "id": "2395b7b8",
   "metadata": {},
   "source": [
    "#    _Online Simpons classificator_\n",
    "### Upload an image of the following 10 characters :\n",
    "* Homer Simpson\n",
    "* Marge Simpson\n",
    "* Bart Simpson\n",
    "* Lisa Simpson\n",
    "* Maggie Simpson\n",
    "* Grampa Simpson\n",
    "* Ralph Wiggum\n",
    "* Milhouse Van Houten\n",
    "* Nelson Muntz\n",
    "* Moe Szyslak\n",
    "\n",
    "## Let's see if the AI recognizes the character!\n"
   ]
  },
  {
   "cell_type": "code",
   "execution_count": 3,
   "id": "fc559f77",
   "metadata": {
    "gradient": {
     "editing": false,
     "id": "2b0a8177-1da9-4527-977b-fc6d9b972c20",
     "kernelId": "4aa52c39-d9b2-4105-b248-29805034423c",
     "source_hidden": false
    }
   },
   "outputs": [],
   "source": [
    "!pip install -Uqq fastbook\n",
    "import fastbook\n",
    "fastbook.setup_book()"
   ]
  },
  {
   "cell_type": "code",
   "execution_count": 4,
   "id": "e690c2b8",
   "metadata": {
    "gradient": {
     "editing": false,
     "id": "2b0a8177-1da9-4527-977b-fc6d9b972c20",
     "kernelId": "4aa52c39-d9b2-4105-b248-29805034423c",
     "source_hidden": false
    }
   },
   "outputs": [],
   "source": [
    "from fastbook import *\n",
    "from fastai.vision.widgets import *"
   ]
  },
  {
   "cell_type": "code",
   "execution_count": 5,
   "id": "564a0692",
   "metadata": {
    "gradient": {
     "editing": false,
     "id": "2b0a8177-1da9-4527-977b-fc6d9b972c20",
     "kernelId": "4aa52c39-d9b2-4105-b248-29805034423c",
     "source_hidden": false
    }
   },
   "outputs": [],
   "source": [
    "path = Path()\n",
    "learn_inf = load_learner(path/'export.pkl', cpu=True)"
   ]
  },
  {
   "cell_type": "code",
   "execution_count": 8,
   "id": "67d1a007",
   "metadata": {
    "gradient": {
     "editing": false,
     "id": "2b0a8177-1da9-4527-977b-fc6d9b972c20",
     "kernelId": "4aa52c39-d9b2-4105-b248-29805034423c",
     "source_hidden": false
    }
   },
   "outputs": [],
   "source": [
    "#upload widget\n",
    "btn_upload = widgets.FileUpload()\n",
    "\n",
    "#output widget\n",
    "out_pl = widgets.Output()\n",
    "out_pl.clear_output()\n",
    "\n",
    "#label widget\n",
    "lbl_pred = widgets.Label()\n",
    "#lbl_pred.value = f'Prediction: {pred}; Probability: {probs[pred_idx]:.04f}'\n",
    "\n",
    "#Button widget\n",
    "btn_run = widgets.Button(description = 'Classify')"
   ]
  },
  {
   "cell_type": "code",
   "execution_count": 9,
   "id": "2b0a8177-1da9-4527-977b-fc6d9b972c20",
   "metadata": {
    "gradient": {
     "editing": false,
     "id": "2b0a8177-1da9-4527-977b-fc6d9b972c20",
     "kernelId": "4aa52c39-d9b2-4105-b248-29805034423c",
     "source_hidden": false
    }
   },
   "outputs": [],
   "source": [
    "#ClickEventHandler: func when button pressed\n",
    "def on_click_classify(change):\n",
    "    img = PILImage.create(btn_upload.data[-1])\n",
    "    out_pl.clear_output()\n",
    "    with out_pl: display(img.to_thumb(128,128))\n",
    "    pred,pred_idx,probs = learn_inf.predict(img)\n",
    "    lbl_pred.value = f'Prediction: {pred}; Probability: {probs[pred_idx]:.04f}'\n",
    "btn_run.on_click(on_click_classify)"
   ]
  },
  {
   "cell_type": "code",
   "execution_count": 10,
   "id": "af9da49d-29aa-4eac-9507-13bc1856b9b2",
   "metadata": {
    "gradient": {
     "editing": false,
     "id": "af9da49d-29aa-4eac-9507-13bc1856b9b2",
     "kernelId": "4aa52c39-d9b2-4105-b248-29805034423c",
     "source_hidden": false
    }
   },
   "outputs": [
    {
     "data": {
      "application/vnd.jupyter.widget-view+json": {
       "model_id": "41a6ea52783049faab7fcf08288638d9",
       "version_major": 2,
       "version_minor": 0
      },
      "text/plain": [
       "VBox(children=(Label(value='Select your Simpsons character!'), FileUpload(value={}, description='Upload'), But…"
      ]
     },
     "metadata": {},
     "output_type": "display_data"
    },
    {
     "data": {
      "text/html": [],
      "text/plain": [
       "<IPython.core.display.HTML object>"
      ]
     },
     "metadata": {},
     "output_type": "display_data"
    },
    {
     "data": {
      "text/html": [],
      "text/plain": [
       "<IPython.core.display.HTML object>"
      ]
     },
     "metadata": {},
     "output_type": "display_data"
    },
    {
     "data": {
      "text/html": [],
      "text/plain": [
       "<IPython.core.display.HTML object>"
      ]
     },
     "metadata": {},
     "output_type": "display_data"
    },
    {
     "data": {
      "text/html": [],
      "text/plain": [
       "<IPython.core.display.HTML object>"
      ]
     },
     "metadata": {},
     "output_type": "display_data"
    }
   ],
   "source": [
    "#Put all widgets into a VBox (Vertical Box)\n",
    "out_pl.clear_output()\n",
    "#lbl_pred.clear()\n",
    "VBox([widgets.Label('Select your Simpsons character!'), \n",
    "     btn_upload, btn_run, out_pl, lbl_pred])"
   ]
  },
  {
   "cell_type": "code",
   "execution_count": null,
   "id": "9d28d3cb-9d4b-455b-8fe2-3de1d61f46ed",
   "metadata": {
    "gradient": {
     "editing": false,
     "id": "9d28d3cb-9d4b-455b-8fe2-3de1d61f46ed",
     "kernelId": "4aa52c39-d9b2-4105-b248-29805034423c",
     "source_hidden": false
    }
   },
   "outputs": [],
   "source": []
  }
 ],
 "metadata": {
  "kernelspec": {
   "display_name": "Python 3 (ipykernel)",
   "language": "python",
   "name": "python3"
  },
  "language_info": {
   "codemirror_mode": {
    "name": "ipython",
    "version": 3
   },
   "file_extension": ".py",
   "mimetype": "text/x-python",
   "name": "python",
   "nbconvert_exporter": "python",
   "pygments_lexer": "ipython3",
   "version": "3.7.11"
  }
 },
 "nbformat": 4,
 "nbformat_minor": 5
}
