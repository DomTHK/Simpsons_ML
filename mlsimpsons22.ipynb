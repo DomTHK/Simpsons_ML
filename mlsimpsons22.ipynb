{
 "cells": [
  {
   "cell_type": "code",
   "execution_count": null,
   "id": "2b0a8177-1da9-4527-977b-fc6d9b972c20",
   "metadata": {
    "gradient": {
     "editing": false,
     "id": "2b0a8177-1da9-4527-977b-fc6d9b972c20",
     "kernelId": "4aa52c39-d9b2-4105-b248-29805034423c",
     "source_hidden": false
    }
   },
   "outputs": [
    {
     "name": "stdout",
     "output_type": "stream",
     "text": [
      "\u001b[31mERROR: pip's dependency resolver does not currently take into account all the packages that are installed. This behaviour is the source of the following dependency conflicts.\r\n",
      "voila 0.3.1 requires nbconvert<7,>=6.0.0, but you have nbconvert 5.6.1 which is incompatible.\u001b[0m\r\n"
     ]
    },
    {
     "data": {
      "image/png": "[encoded data removed]",
      "text/plain": [
       "<PIL.Image.Image image mode=RGB size=73x128 at 0x7F1FA8619F50>"
      ]
     },
     "metadata": {},
     "output_type": "display_data"
    },
    {
     "data": {
      "text/html": [],
      "text/plain": [
       "<IPython.core.display.HTML object>"
      ]
     },
     "metadata": {
      "display_id": "158994dbd4931184b1d9ea807e2ddd24"
     },
     "output_type": "display_data"
    }
   ],
   "source": [
    "!pip install -Uqq fastbook\n",
    "import fastbook\n",
    "fastbook.setup_book()\n",
    "\n",
    "from fastbook import *\n",
    "from fastai.vision.widgets import *\n",
    "path = Path('Simpsons')\n",
    "path = Path()\n",
    "learn_inf = load_learner(path/'export.pkl')\n",
    "#upload widget\n",
    "btn_upload = widgets.FileUpload()\n",
    "img = PILImage.create('images/Screenshot (2130).png')\n",
    "out_pl = widgets.Output()\n",
    "out_pl.clear_output()\n",
    "with out_pl: display(img.to_thumb(128,128))\n",
    "                     \n",
    "#make prediction with pretrained model\n",
    "pred, pred_idx, probs = learn_inf.predict(img)\n",
    "                     \n",
    "#Use a label to display predictions\n",
    "lbl_pred = widgets.Label()\n",
    "lbl_pred.value = f'Prediction: {pred}; Probability: {probs[pred_idx]:.04f}'\n",
    "lbl_pred\n",
    "                     \n",
    "#crating a button to do classification\n",
    "btn_run = widgets.Button(description = 'Classify')\n",
    "btn_run\n",
    "#establishing ClickEventHandler -> these are the called func when button pressed\n",
    "def on_click_classify(change):\n",
    "    img = PILImage.create(btn_upload.data[-1])\n",
    "    out_pl.clear_output()\n",
    "    with out_pl: display(img.to_thumb(128,128))\n",
    "    pred,pred_idx,probs = learn_inf.predict(img)\n",
    "    lbl_pred.value = f'Prediction: {pred}; Probability: {probs[pred_idx]:.04f}'\n",
    "    \n",
    "btn_run.on_click(on_click_classify)"
   ]
  },
  {
   "cell_type": "code",
   "execution_count": null,
   "id": "af9da49d-29aa-4eac-9507-13bc1856b9b2",
   "metadata": {
    "gradient": {
     "editing": false,
     "id": "af9da49d-29aa-4eac-9507-13bc1856b9b2",
     "kernelId": "4aa52c39-d9b2-4105-b248-29805034423c",
     "source_hidden": false
    }
   },
   "outputs": [
    {
     "data": {
      "application/vnd.jupyter.widget-view+json": {
       "model_id": "7bed5fe9cfce41888e40563e76d917cf",
       "version_major": 2,
       "version_minor": 0
      },
      "text/plain": [
       "VBox(children=(Label(value='Select your Simpsons character!'), FileUpload(value={}, description='Upload'), But…"
      ]
     },
     "metadata": {},
     "output_type": "display_data"
    }
   ],
   "source": [
    "#Put all widgets into a VBox (Vertical Box)\n",
    "out_pl.clear_output()\n",
    "#lbl_pred.clear()\n",
    "VBox([widgets.Label('Select your Simpsons character!'), \n",
    "     btn_upload, btn_run, out_pl, lbl_pred])"
   ]
  },
  {
   "cell_type": "code",
   "execution_count": null,
   "id": "9d28d3cb-9d4b-455b-8fe2-3de1d61f46ed",
   "metadata": {
    "gradient": {
     "editing": false,
     "id": "9d28d3cb-9d4b-455b-8fe2-3de1d61f46ed",
     "kernelId": "4aa52c39-d9b2-4105-b248-29805034423c",
     "source_hidden": false
    }
   },
   "outputs": [],
   "source": []
  }
 ],
 "metadata": {
  "kernelspec": {
   "display_name": "Python 3 (ipykernel)",
   "language": "python",
   "name": "python3"
  },
  "language_info": {
   "codemirror_mode": {
    "name": "ipython",
    "version": 3
   },
   "file_extension": ".py",
   "mimetype": "text/x-python",
   "name": "python",
   "nbconvert_exporter": "python",
   "pygments_lexer": "ipython3",
   "version": "3.7.11"
  }
 },
 "nbformat": 4,
 "nbformat_minor": 5
}
